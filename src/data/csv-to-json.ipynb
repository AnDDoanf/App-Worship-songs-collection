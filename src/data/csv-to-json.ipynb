{
 "cells": [
  {
   "cell_type": "code",
   "execution_count": 8,
   "metadata": {},
   "outputs": [],
   "source": [
    "import pandas as pd\n",
    "\n",
    "def process(df):\n",
    "    data = pd.DataFrame()\n",
    "    data['songName'] = df['Tên bài hát']\n",
    "    data['category1'] = df['Chủ đề']\n",
    "    data['category2'] = df['Chủ đề con']\n",
    "    data['id'] = (df['STT'])\n",
    "    data['tone'] = df['Tone']\n",
    "    data['timeSignature'] = df['Nhịp']\n",
    "    return data"
   ]
  },
  {
   "cell_type": "code",
   "execution_count": 9,
   "metadata": {},
   "outputs": [],
   "source": [
    "data = pd.read_csv('D:\\code\\song-collections\\src\\data\\hosanna-data.csv')\n",
    "df = process(data)\n",
    "\n",
    "data = pd.read_csv('D:\\code\\song-collections\\src\\data\\TVCHH-data.csv')\n",
    "df1 = process(data)\n",
    "\n",
    "data = pd.read_csv('D:\\code\\song-collections\\src\\data\\song-data.csv')\n",
    "df2 = process(data)"
   ]
  },
  {
   "cell_type": "code",
   "execution_count": 12,
   "metadata": {},
   "outputs": [],
   "source": [
    "df = pd.concat([df, df1, df2])"
   ]
  },
  {
   "cell_type": "code",
   "execution_count": 13,
   "metadata": {},
   "outputs": [],
   "source": [
    "dataset = list()\n",
    "for i in range (len(df)):\n",
    "    tempset = {}\n",
    "    tempset['songName'] = df.iloc[i]['songName'] \n",
    "    if df.iloc[i]['category1'] == 1:\n",
    "        if df.iloc[i]['category2'] == \"a\":\n",
    "            tempset['category'] = \"Ngợi khen thờ phượng: Xin Chúa hiện diện\"\n",
    "        elif df.iloc[i]['category2'] == \"b\":\n",
    "            tempset['category'] = \"Ngợi khen thờ phượng: Tôn cao Chúa\"\n",
    "        elif df.iloc[i]['category2'] == \"c\":\n",
    "            tempset['category'] = \"Ngợi khen thờ phượng: Sự ăn năn - Sự tha tội\"\n",
    "        else: tempset['category'] = \"Ngợi khen thờ phượng: Dâng hiến - Đáp ứng\"\n",
    "    elif df.iloc[i]['category1'] == 2:\n",
    "        tempset['category'] = \"Ngợi khen cảm tạ\"\n",
    "    elif df.iloc[i]['category1'] == 3:\n",
    "        if df.iloc[i]['category2'] == \"a\":\n",
    "            tempset['category'] = \"Truyền giảng hội chúng\"\n",
    "        else:\n",
    "            tempset['category'] = \"Đơn ca kêu gọi\"\n",
    "    elif df.iloc[i]['category1'] == 4:\n",
    "        if df.iloc[i]['category2'] == \"a\":\n",
    "            tempset['category'] = \"Thánh ca Giáng Sinh\"\n",
    "        elif df.iloc[i]['category2'] == \"b\":\n",
    "            tempset['category'] = \"Thánh lễ Thương Khó - Phục Sinh\"\n",
    "        elif df.iloc[i]['category2'] == \"c\":\n",
    "            tempset['category'] = \"Thông công - Sinh hoạt\"\n",
    "        elif df.iloc[i]['category2'] == \"d\":\n",
    "            tempset['category'] = \"Hôn nhân - Hôn lễ\"\n",
    "        elif df.iloc[i]['category2'] == \"e\":\n",
    "            tempset['category'] = \"Phụ mẫu\"\n",
    "        elif df.iloc[i]['category2'] == \"f\":\n",
    "            tempset['category'] = \"Thánh ca mừng năm mới\"\n",
    "        elif df.iloc[i]['category2'] == \"g\":\n",
    "            tempset['category'] = \"Thánh lễ Tiệc Thánh\"\n",
    "        else: tempset['category'] = \"Thánh ca cho Tang lễ\"\n",
    "    elif df.iloc[i]['category1'] == 5:\n",
    "        tempset['category'] = \"Đơn ca trải lòng\"\n",
    "    tempset['id'] = df.iloc[i]['id'] \n",
    "    tempset['tone'] = df.iloc[i]['tone'] \n",
    "    tempset['timeSignature'] = df.iloc[i]['timeSignature'] \n",
    "    dataset.append(tempset)"
   ]
  },
  {
   "cell_type": "code",
   "execution_count": 14,
   "metadata": {},
   "outputs": [],
   "source": [
    "import json\n",
    "with open('D:\\code\\song-collections\\src\\data\\hosanna-data.json', 'w', encoding='utf-8') as f:\n",
    "    json.dump(dataset, f, ensure_ascii=False, indent=4)"
   ]
  }
 ],
 "metadata": {
  "kernelspec": {
   "display_name": "Python 3",
   "language": "python",
   "name": "python3"
  },
  "language_info": {
   "codemirror_mode": {
    "name": "ipython",
    "version": 3
   },
   "file_extension": ".py",
   "mimetype": "text/x-python",
   "name": "python",
   "nbconvert_exporter": "python",
   "pygments_lexer": "ipython3",
   "version": "3.10.11"
  }
 },
 "nbformat": 4,
 "nbformat_minor": 2
}
