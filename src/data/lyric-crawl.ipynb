{
 "cells": [
  {
   "cell_type": "markdown",
   "metadata": {},
   "source": [
    "### Delete all file have .jpg in folder "
   ]
  },
  {
   "cell_type": "code",
   "execution_count": 15,
   "metadata": {},
   "outputs": [],
   "source": [
    "import os\n",
    "from fnmatch import fnmatch\n",
    "\n",
    "folder = 'D:/code/song-collections/src/data/HosannaVietNam'\n",
    "for dirpath, dirnames, filenames in os.walk(folder):\n",
    "    for file in filenames:\n",
    "        if fnmatch(file, '*.jpg'):\n",
    "            os.remove(os.path.join(dirpath, file))\n"
   ]
  },
  {
   "cell_type": "code",
   "execution_count": 87,
   "metadata": {},
   "outputs": [
    {
     "data": {
      "text/plain": [
       "387"
      ]
     },
     "execution_count": 87,
     "metadata": {},
     "output_type": "execute_result"
    }
   ],
   "source": [
    "with open(r'D:\\code\\song-collections\\src\\data\\thuvientinlanh.txt', 'r', encoding=\"utf-8\") as fh:\n",
    "    linklist = ['https://wiki.thuvientinlanh.org/'+line[:line.find('\" title=')] for line in fh]\n",
    "\n",
    "len(linklist)"
   ]
  },
  {
   "cell_type": "code",
   "execution_count": 84,
   "metadata": {},
   "outputs": [],
   "source": [
    "import requests as req\n",
    "link=linklist[4]\n",
    "\n"
   ]
  },
  {
   "cell_type": "code",
   "execution_count": 78,
   "metadata": {},
   "outputs": [
    {
     "data": {
      "text/plain": [
       "('Trọn Cả Tấm Lòng', '', '')"
      ]
     },
     "execution_count": 78,
     "metadata": {},
     "output_type": "execute_result"
    }
   ],
   "source": []
  },
  {
   "cell_type": "code",
   "execution_count": null,
   "metadata": {},
   "outputs": [],
   "source": [
    "{\n",
    "    \"songName\": \"\",\n",
    "    \"category\": \"\",\n",
    "    \"id\": \"\",\n",
    "    \"tone\": \"\",\n",
    "    \"timeSignature\": \"\",\n",
    "    \"lyricist\": \"\",\n",
    "    \"composer\": \"\",\n",
    "    \"lyric\": \"\",\n",
    "    \"sheetPath\": \"\"\n",
    "},"
   ]
  },
  {
   "cell_type": "code",
   "execution_count": 90,
   "metadata": {},
   "outputs": [],
   "source": [
    "from bs4 import BeautifulSoup\n",
    "def getTVCHH():\n",
    "    songNames = []\n",
    "    lyricists = []\n",
    "    composers = []\n",
    "    lyrics = []\n",
    "    for link in linklist:\n",
    "        start = '<div id=\"mw-content-text\"'\n",
    "        end = 'class=\"printfooter\"'\n",
    "        text=req.get(link).text\n",
    "        text = text[text.find(start):text.find(end)]\n",
    "        starttitle = 'Tựa đề: '\n",
    "        endtitle = 'Lời:'\n",
    "        endtext = 'Nhạc:'\n",
    "        endmusic = 'Tài Liệu:'\n",
    "        songName = text[text.find(starttitle)+8:text.find(endtitle)-10]\n",
    "        lyricist = text[text.find(endtitle)+5:text.find(endtext)-10]\n",
    "        composer = text[text.find(endtext)+6:text.find(endmusic)-10]\n",
    "        startlyric = 'id=\"Lời_Việt\"'\n",
    "        endlyric = 'id=\"Ca_Khúc\"'\n",
    "        lyric = text[text.find(startlyric)-6:text.find(endlyric)-11]\n",
    "        lyric = BeautifulSoup(lyric, 'html.parser').get_text().split('\\n')[2:]\n",
    "        songNames.append(songName)\n",
    "        lyricists.append(lyricist)\n",
    "        composers.append(composer)\n",
    "        lyrics.append(lyric)\n"
   ]
  },
  {
   "cell_type": "code",
   "execution_count": 107,
   "metadata": {},
   "outputs": [],
   "source": [
    "pdflinklist = list()\n",
    "for i in range (1, 388):\n",
    "    newpath = r'D:\\code\\song-collections\\src\\data\\TVCHH\\T' + str(i)\n",
    "    url = 'https://wiki.thuvientinlanh.org/ThanhCa/TVCHH/sheet/'+str(i)+'.pdf'\n",
    "    response = req.get(url)  \n",
    "    with open(r'D:\\code\\song-collections\\src\\data\\TVCHH\\T'+str(i)+'\\T'+str(i)+'.pdf', 'wb') as f:\n",
    "        f.write(response.content)"
   ]
  },
  {
   "cell_type": "code",
   "execution_count": 108,
   "metadata": {},
   "outputs": [],
   "source": [
    "# import module\n",
    "from pdf2image import convert_from_path\n",
    " \n",
    " \n",
    "# Store Pdf with convert_from_path function\n",
    "images = convert_from_path(r'D:\\code\\song-collections\\src\\data\\HosannaVietNam\\H1\\H1.pdf')\n",
    " \n",
    "for i in range(len(images)):\n",
    "   \n",
    "      # Save pages as images in the pdf\n",
    "    images[i].save('page'+ str(i) +'.jpg', 'JPEG')"
   ]
  }
 ],
 "metadata": {
  "kernelspec": {
   "display_name": "Python 3",
   "language": "python",
   "name": "python3"
  },
  "language_info": {
   "codemirror_mode": {
    "name": "ipython",
    "version": 3
   },
   "file_extension": ".py",
   "mimetype": "text/x-python",
   "name": "python",
   "nbconvert_exporter": "python",
   "pygments_lexer": "ipython3",
   "version": "3.10.11"
  }
 },
 "nbformat": 4,
 "nbformat_minor": 2
}
